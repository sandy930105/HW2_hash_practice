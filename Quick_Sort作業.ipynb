{
  "nbformat": 4,
  "nbformat_minor": 0,
  "metadata": {
    "colab": {
      "provenance": [],
      "authorship_tag": "ABX9TyPCoYWmVeSfZILaulc5h2EN"
    },
    "kernelspec": {
      "name": "python3",
      "display_name": "Python 3"
    },
    "language_info": {
      "name": "python"
    }
  },
  "cells": [
    {
      "cell_type": "code",
      "execution_count": 1,
      "metadata": {
        "colab": {
          "base_uri": "https://localhost:8080/"
        },
        "id": "EZmzzFpHwpqt",
        "outputId": "6ffe8eae-d49f-48dd-8b8e-918432a2e623"
      },
      "outputs": [
        {
          "output_type": "stream",
          "name": "stdout",
          "text": [
            "原始資料： [33, 67, 8, 13, 54, 119, 3, 84, 25, 41]\n",
            "Pivot: 33\n",
            "Left: [8, 13, 3, 25]\n",
            "Right: [67, 54, 119, 84, 41]\n",
            "  Pivot: 8\n",
            "  Left: [3]\n",
            "  Right: [13, 25]\n",
            "    Pivot: 13\n",
            "    Left: []\n",
            "    Right: [25]\n",
            "    Merged: [13, 25]\n",
            "  Merged: [3, 8, 13, 25]\n",
            "  Pivot: 67\n",
            "  Left: [54, 41]\n",
            "  Right: [119, 84]\n",
            "    Pivot: 54\n",
            "    Left: [41]\n",
            "    Right: []\n",
            "    Merged: [41, 54]\n",
            "    Pivot: 119\n",
            "    Left: [84]\n",
            "    Right: []\n",
            "    Merged: [84, 119]\n",
            "  Merged: [41, 54, 67, 84, 119]\n",
            "Merged: [3, 8, 13, 25, 33, 41, 54, 67, 84, 119]\n",
            "排序後結果： [3, 8, 13, 25, 33, 41, 54, 67, 84, 119]\n"
          ]
        }
      ],
      "source": [
        "def quick_sort(arr, depth=0):\n",
        "    indent = \"  \" * depth  # 為了顯示遞迴層級，方便看過程\n",
        "    if len(arr) <= 1:\n",
        "        return arr\n",
        "\n",
        "    pivot = arr[0]\n",
        "    left = [x for x in arr[1:] if x < pivot]\n",
        "    right = [x for x in arr[1:] if x >= pivot]\n",
        "\n",
        "    print(f\"{indent}Pivot: {pivot}\")\n",
        "    print(f\"{indent}Left: {left}\")\n",
        "    print(f\"{indent}Right: {right}\")\n",
        "\n",
        "    sorted_left = quick_sort(left, depth + 1)\n",
        "    sorted_right = quick_sort(right, depth + 1)\n",
        "\n",
        "    result = sorted_left + [pivot] + sorted_right\n",
        "    print(f\"{indent}Merged: {result}\")\n",
        "    return result\n",
        "\n",
        "# Demo data\n",
        "data = [33, 67, 8, 13, 54, 119, 3, 84, 25, 41]\n",
        "print(\"原始資料：\", data)\n",
        "sorted_data = quick_sort(data)\n",
        "print(\"排序後結果：\", sorted_data)\n"
      ]
    }
  ]
}