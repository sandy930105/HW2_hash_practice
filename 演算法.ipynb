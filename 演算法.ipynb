{
  "nbformat": 4,
  "nbformat_minor": 0,
  "metadata": {
    "colab": {
      "provenance": []
    },
    "kernelspec": {
      "name": "python3",
      "display_name": "Python 3"
    },
    "language_info": {
      "name": "python"
    }
  },
  "cells": [
    {
      "cell_type": "code",
      "execution_count": null,
      "metadata": {
        "colab": {
          "base_uri": "https://localhost:8080/"
        },
        "id": "bSArL30mlZoA",
        "outputId": "ff39abdf-99c6-4676-b568-4e8bde40c85e"
      },
      "outputs": [
        {
          "name": "stdout",
          "output_type": "stream",
          "text": [
            "Enter a decimal number: 32\n"
          ]
        },
        {
          "output_type": "execute_result",
          "data": {
            "text/plain": [
              "{'decimal': 32, 'binary': '100000', 'hexadecimal': '20'}"
            ]
          },
          "metadata": {},
          "execution_count": 3
        }
      ],
      "source": [
        "# prompt: 設計一個輸入為10進位，輸出為二進位與16進位數字的程式。以python\n",
        "\n",
        "def decimal_to_binary_hexadecimal(decimal_num):\n",
        "    \"\"\"\n",
        "     a decimal  to its binary and hexadecimal representations.\n",
        "\n",
        "    Args:\n",
        "      decimal_num: The decimal number to convert (i\n",
        "    try:\n",
        "        decimal_num = int(decimal_num)  # Ensure the input is an integer\n",
        "        binary_num = bin(decimal_num)[2:]  # Convert to binary, remove \"0b\" prefix\n",
        "        hexadecimal_num = hex(decimal_num)[2:] # Convert to hexadecimal, remove \"0x\" prefix\n",
        "        return {\n",
        "            \"decimal\": decimal_num,\n",
        "            \"binary\": binary_num,\n",
        "            \"hexadecimal\": hexadecimal_num\n",
        "        }\n",
        "    except ValueError:\n",
        "        return \"Invalid input. Please enter a valid integer.\"\n",
        "\n",
        "# Get user input\n",
        "decimal_input = input(\"Enter a decimal number: \")\n",
        "\n",
        "# Convert and print the results\n",
        "result = decimal_to_binary_hexadecimal(decimal_input)\n",
        "result\n"
      ]
    },
    {
      "cell_type": "code",
      "source": [
        "# prompt: 設計一個輸入為10進位，輸出為二進位與16進位數字的程式。以python\n",
        "\n",
        "def decimal_to_binary_hexadecimal(decimal_num):\n",
        "    \"\"\"\n",
        "    Converts a decimal number to its binary and hexadecimal representations.\n",
        "\n",
        "    Args:\n",
        "      decimal_num: The decimal number to convert (integer).\n",
        "\n",
        "    Returns:\n",
        "      A dictionary containing the decimal, binary, and hexadecimal representations.\n",
        "      Returns an error message if the input is not a valid integer.\n",
        "    \"\"\"\n",
        "    try:\n",
        "        decimal_num = int(decimal_num)  # Ensure the input is an integer\n",
        "        binary_num = bin(decimal_num)[2:]  # Convert to binary, remove \"0b\" prefix\n",
        "        hexadecimal_num = hex(decimal_num)[2:]  # Convert to hexadecimal, remove \"0x\" prefix\n",
        "        return {\n",
        "            \"decimal\": decimal_num,\n",
        "            \"binary\": binary_num,\n",
        "            \"hexadecimal\": hexadecimal_num\n",
        "        }\n",
        "    except ValueError:\n",
        "        return \"Invalid input. Please enter a valid integer.\"\n",
        "\n",
        "# Example usage (you can remove this part if you are just defining the function)\n",
        "decimal_input = input(\"Enter a decimal number: \")\n",
        "result = decimal_to_binary_hexadecimal(decimal_input)\n",
        "result\n"
      ],
      "metadata": {
        "colab": {
          "base_uri": "https://localhost:8080/"
        },
        "id": "YjbN_YVLnci4",
        "outputId": "2ac4420b-4e13-47a4-be87-056cce0f16d8"
      },
      "execution_count": null,
      "outputs": [
        {
          "name": "stdout",
          "output_type": "stream",
          "text": [
            "Enter a decimal number: 2\n"
          ]
        },
        {
          "output_type": "execute_result",
          "data": {
            "text/plain": [
              "{'decimal': 2, 'binary': '10', 'hexadecimal': '2'}"
            ]
          },
          "metadata": {},
          "execution_count": 4
        }
      ]
    },
    {
      "cell_type": "code",
      "source": [],
      "metadata": {
        "id": "UAETkoTTmO1A"
      },
      "execution_count": null,
      "outputs": []
    },
    {
      "cell_type": "code",
      "source": [],
      "metadata": {
        "id": "CVeQyRWalc3F"
      },
      "execution_count": null,
      "outputs": []
    }
  ]
}